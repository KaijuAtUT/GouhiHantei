{
  "nbformat": 4,
  "nbformat_minor": 0,
  "metadata": {
    "colab": {
      "provenance": []
    },
    "kernelspec": {
      "name": "python3",
      "display_name": "Python 3"
    },
    "language_info": {
      "name": "python"
    }
  },
  "cells": [
    {
      "cell_type": "markdown",
      "source": [
        "# 入試合格判定用コード\n",
        "\n",
        "PDF で合格者の受験番号が特定の Web ページに掲示される形式の入試の合否が判定できます。  \n",
        "「以下を必要に応じて変更してください」の部分を変更し、セルを上から実行することで、自分の受験番号が合格者の一覧にあるかを見ることができます。  \n",
        "なお、合否が正しく表示されなかった場合に生じる不利益については、責任を負いかねますのでご了承ください。"
      ],
      "metadata": {
        "id": "R-MeiFgAQVMn"
      }
    },
    {
      "cell_type": "code",
      "source": [
        "### 以下を必要に応じて変更してください ###\n",
        "\n",
        "# ターゲットURL（合格者の受験番号のPDFリンクが貼られるページのURL）\n",
        "# 例：東大薬学系研究科は https://www.f.u-tokyo.ac.jp/exam/index.html?key=1378943625\n",
        "url = \"\"\n",
        "\n",
        "# リンクテキスト（ページ内で、PDFのリンク部分が一意に定まるようにしてください）\n",
        "# 例：東大薬学系研究科修士課程は 修士課程合格者、2025.4\n",
        "linktext1 = \"\"\n",
        "linktext2 = \"\"\n",
        "\n",
        "# PDFのURLのうち、aタグに含まれていない部分\n",
        "page = \"\"\n",
        "\n",
        "# 受験番号\n",
        "search_string = \"\""
      ],
      "metadata": {
        "id": "AhdsWlIQqm8R"
      },
      "execution_count": 13,
      "outputs": []
    },
    {
      "cell_type": "markdown",
      "source": [
        "## ①モジュールのインポートとか"
      ],
      "metadata": {
        "id": "oqiapbVRQaUN"
      }
    },
    {
      "cell_type": "code",
      "source": [
        "!pip freeze | grep request\n",
        "!pip freeze | grep beautiful\n",
        "!pip install PyPDF2\n",
        "import requests\n",
        "from bs4 import BeautifulSoup\n",
        "import urllib.request\n",
        "from PyPDF2 import PdfReader\n",
        "import ssl\n",
        "import io"
      ],
      "metadata": {
        "colab": {
          "base_uri": "https://localhost:8080/"
        },
        "id": "fMSXwKYDQCTv",
        "outputId": "142f7442-cf90-47d2-bad4-b641a79322d5"
      },
      "execution_count": 5,
      "outputs": [
        {
          "output_type": "stream",
          "name": "stdout",
          "text": [
            "requests==2.32.3\n",
            "requests-oauthlib==1.3.1\n",
            "requests-toolbelt==1.0.0\n",
            "beautifulsoup4==4.12.3\n",
            "Requirement already satisfied: PyPDF2 in /usr/local/lib/python3.10/dist-packages (3.0.1)\n"
          ]
        }
      ]
    },
    {
      "cell_type": "markdown",
      "source": [
        "## ②結果の PDF の URL 取得\n",
        "\n",
        "ここで「該当するリンクが見つかりませんでした」と表示された場合、ファイルの命名規則が変わったなどの理由で URL が開けなくなっています。その場合、正しい合否の判定ができません 🥺"
      ],
      "metadata": {
        "id": "f_IKq2SfQvF5"
      }
    },
    {
      "cell_type": "code",
      "source": [
        "# ウェブページを取得\n",
        "response = requests.get(url, verify=False)\n",
        "\n",
        "# エンコーディングを自動検出\n",
        "response.encoding = response.apparent_encoding\n",
        "\n",
        "# BeautifulSoupでHTMLをパース\n",
        "html = BeautifulSoup(response.text, \"html.parser\")\n",
        "\n",
        "# 'a'タグを検索し、リンクテキストの一部が一致するかチェック\n",
        "link = html.find(\"a\", string=lambda text: text and linktext1 in text and linktext2 in text)\n",
        "\n",
        "# 結果を出力\n",
        "if link:\n",
        "    href = link.get('href')\n",
        "    print(href)\n",
        "else:\n",
        "    print(\"該当するリンクが見つかりませんでした\")"
      ],
      "metadata": {
        "colab": {
          "base_uri": "https://localhost:8080/"
        },
        "id": "iguBH9CSNTZ-",
        "outputId": "d8093d9d-e396-4237-dd30-4db8e9326b58"
      },
      "execution_count": 8,
      "outputs": [
        {
          "output_type": "stream",
          "name": "stderr",
          "text": [
            "/usr/local/lib/python3.10/dist-packages/urllib3/connectionpool.py:1099: InsecureRequestWarning: Unverified HTTPS request is being made to host 'www.f.u-tokyo.ac.jp'. Adding certificate verification is strongly advised. See: https://urllib3.readthedocs.io/en/latest/advanced-usage.html#tls-warnings\n",
            "  warnings.warn(\n"
          ]
        },
        {
          "output_type": "stream",
          "name": "stdout",
          "text": [
            "/wysiwyg/kcfinder/upload/files/%EF%BC%92%EF%BC%90%EF%BC%92%EF%BC%95%E5%B9%B4%EF%BC%94%E6%9C%88%E5%85%A5%E5%AD%A6%E3%80%80%E4%BF%AE%E5%A3%AB%E8%AA%B2%E7%A8%8B%E3%80%80%E5%90%88%E6%A0%BC%E8%80%85.pdf\n"
          ]
        }
      ]
    },
    {
      "cell_type": "markdown",
      "source": [
        "# ③ PDF に特定の受験番号があるか確認"
      ],
      "metadata": {
        "id": "Jr5mJgcnSh2N"
      }
    },
    {
      "cell_type": "markdown",
      "source": [
        "### 関数の定義"
      ],
      "metadata": {
        "id": "1PA09lbCStN1"
      }
    },
    {
      "cell_type": "code",
      "source": [
        "# PDFをダウンロードして読み込む関数\n",
        "def download_pdf(url):\n",
        "    context = ssl._create_unverified_context()  # SSL証明書の検証を無視（同上）\n",
        "    response = urllib.request.urlopen(url, context=context)\n",
        "    return response.read()\n",
        "\n",
        "# PDFのページごとに文字列を検索する関数\n",
        "def search_string_in_pdf(pdf_data, search_string):\n",
        "    pdf_file = io.BytesIO(pdf_data)  # バイトデータをファイルのように扱う\n",
        "    pdf_reader = PdfReader(pdf_file)\n",
        "    for page_num in range(len(pdf_reader.pages)):\n",
        "        page = pdf_reader.pages[page_num]\n",
        "        text = page.extract_text()\n",
        "        if search_string in text:\n",
        "            print(f\"文字列が{page_num + 1}ページ目で見つかりました\")\n",
        "            return \"合格です！おめでとう〜！\"\n",
        "    print(\"String not found in the PDF\")\n",
        "    return \"不合格です🥺\""
      ],
      "metadata": {
        "id": "UFX8n_JhSvrp"
      },
      "execution_count": 9,
      "outputs": []
    },
    {
      "cell_type": "markdown",
      "source": [
        "### 合否の判定"
      ],
      "metadata": {
        "id": "tkbBUlNrTD-D"
      }
    },
    {
      "cell_type": "code",
      "source": [
        "# URLからPDFを取得\n",
        "pdf_data = download_pdf(page + href)\n",
        "\n",
        "# 特定の文字列を検索\n",
        "search_string_in_pdf(pdf_data, search_string)"
      ],
      "metadata": {
        "colab": {
          "base_uri": "https://localhost:8080/",
          "height": 54
        },
        "id": "4FFsXOlsSyRx",
        "outputId": "a731e2cd-9c76-4980-f043-77fd18f680cd"
      },
      "execution_count": 12,
      "outputs": [
        {
          "output_type": "stream",
          "name": "stdout",
          "text": [
            "文字列が3ページ目で見つかりました\n"
          ]
        },
        {
          "output_type": "execute_result",
          "data": {
            "text/plain": [
              "'合格です！おめでとう〜！'"
            ],
            "application/vnd.google.colaboratory.intrinsic+json": {
              "type": "string"
            }
          },
          "metadata": {},
          "execution_count": 12
        }
      ]
    },
    {
      "cell_type": "code",
      "source": [],
      "metadata": {
        "id": "GCjhYIWDn0id"
      },
      "execution_count": null,
      "outputs": []
    }
  ]
}
